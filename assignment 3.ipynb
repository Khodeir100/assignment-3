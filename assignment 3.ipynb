{
 "cells": [
  {
   "cell_type": "code",
   "execution_count": 6,
   "id": "e7c7a1dc-1289-403e-b0ef-ec33eda34293",
   "metadata": {},
   "outputs": [
    {
     "name": "stdout",
     "output_type": "stream",
     "text": [
      "0 1 1 2 3 5 8 13 21 34 55 89 144 233 377 610 987 1597 2584 4181 "
     ]
    }
   ],
   "source": [
    "#Implement Fibonacci series using recursion\n",
    "def febo(n):\n",
    "    if n<=1:\n",
    "        return n\n",
    "    else :\n",
    "        return (febo(n-1)+febo(n-2))\n",
    "for i in range(20):\n",
    "    print(febo(i), end=\" \")"
   ]
  },
  {
   "cell_type": "code",
   "execution_count": 18,
   "id": "6baadbfc-cf9d-48a1-ae1c-2f9a4930f0dd",
   "metadata": {},
   "outputs": [
    {
     "name": "stdout",
     "output_type": "stream",
     "text": [
      "Mohamed  =  3\n",
      "Ahmed  =  2\n",
      "Younis  =  4\n",
      "Ali  =  2\n",
      "Kareem  =  2\n",
      "Ibrahim  =  1\n"
     ]
    }
   ],
   "source": [
    "# Write a Python program to find all the unique words and count the frequency of occurrence from a given list of strings.\n",
    "x=[\"Mohamed\",\"Ahmed\",\"Younis\",\"Ali\",\"Ahmed\",\"Kareem\",\"Younis\",\"Mohamed\",\"Ibrahim\",\"Younis\",\"Kareem\",\"Mohamed\",\"Ali\",\"Younis\"]\n",
    "y=[]\n",
    "for i in range(len(x)):\n",
    "    z=y.count(x[i])\n",
    "    if z == 0 :\n",
    "        y.append(x[i])\n",
    "        print(x[i],\" = \",x.count(x[i]))\n",
    "    else:\n",
    "        pass"
   ]
  },
  {
   "cell_type": "code",
   "execution_count": 1,
   "id": "fd05a7c9-76e1-434e-89ba-3d82aa539927",
   "metadata": {},
   "outputs": [
    {
     "name": "stdin",
     "output_type": "stream",
     "text": [
      "enter a num  10\n"
     ]
    },
    {
     "name": "stdout",
     "output_type": "stream",
     "text": [
      "1  ,  9\n",
      "3  ,  7\n",
      "4  ,  6\n",
      "6  ,  4\n",
      "7  ,  3\n",
      "9  ,  1\n"
     ]
    }
   ],
   "source": [
    "# Write a Python program that finds all pairs of elements in a list whose sum is equal to a given value.\n",
    "x=[1,3,4,6,7,8,9,13]\n",
    "y=int(input(\"enter a num \"))\n",
    "for i in range(len(x)):\n",
    "    z=y-x[i]\n",
    "    c=x.count(z)\n",
    "    if c >= 1 and z>0:\n",
    "        print(x[i],\" , \",z)\n",
    "    else:\n",
    "        pass"
   ]
  },
  {
   "cell_type": "code",
   "execution_count": 3,
   "id": "eab0aae9-c5da-4d8c-ba3b-815ff376722b",
   "metadata": {},
   "outputs": [
    {
     "name": "stdout",
     "output_type": "stream",
     "text": [
      "-50  ,  -25\n"
     ]
    }
   ],
   "source": [
    "# Write a Python program to find the two numbers whose product is maximum among all the pairs in a given list of numbers.\n",
    "x=[1,12,-50,33,-25,37]\n",
    "\n",
    "def max_prod(nums):\n",
    "    nums_sort=sorted(nums)\n",
    "    max_left=nums_sort[0]*nums_sort[1]\n",
    "    max_right=nums_sort[-1]*nums_sort[-2]\n",
    "    if max_left >= max_right:\n",
    "        print( nums_sort[0] ,\" , \" , nums_sort[1] )\n",
    "    else:\n",
    "        print(nums_sort[-1],\" , \",nums_sort[-2])\n",
    "\n",
    "max_prod(x)"
   ]
  },
  {
   "cell_type": "code",
   "execution_count": 11,
   "id": "6d0e5358-8e91-464f-a4fb-38e4db2ac68f",
   "metadata": {},
   "outputs": [
    {
     "name": "stdin",
     "output_type": "stream",
     "text": [
      "enter a number  29\n"
     ]
    },
    {
     "name": "stdout",
     "output_type": "stream",
     "text": [
      "29  number is prime\n"
     ]
    }
   ],
   "source": [
    "# Write a Python function that takes a number as a parameter and checks whether the number is prime or not.\n",
    "\n",
    "def prim_num(num):\n",
    "    for i in range (2, num):\n",
    "        if num <= 1:\n",
    "            return False\n",
    "        elif num % i == 0:\n",
    "            return False\n",
    "        else:\n",
    "            return True\n",
    "x = int(input(\"enter a number \"))\n",
    "if prim_num(x):\n",
    "   print(x,\" number is prime\")\n",
    "else:\n",
    "    print(x,\" number is not prime\")"
   ]
  },
  {
   "cell_type": "code",
   "execution_count": 13,
   "id": "471b002e-20c2-4ab6-87e0-26690d340d79",
   "metadata": {},
   "outputs": [
    {
     "name": "stdout",
     "output_type": "stream",
     "text": [
      "2 number is even\n",
      "3 number is odd\n",
      "11 number is odd\n",
      "70 number is even\n",
      "88 number is even\n",
      "112 number is even\n",
      "250 number is even\n"
     ]
    }
   ],
   "source": [
    "# Write a Python function to print the even numbers from a given list.\n",
    "x=[2,3,11,70,88,112,250]\n",
    "for i in range(len(x)):\n",
    "    if x[i] % 2 == 0:\n",
    "        print (x[i], \"number is even\")\n",
    "    else:\n",
    "        print (x[i], \"number is odd\")"
   ]
  },
  {
   "cell_type": "code",
   "execution_count": 26,
   "id": "6c76bed5-b316-4692-bd83-0a068ccd1f7d",
   "metadata": {},
   "outputs": [
    {
     "name": "stdin",
     "output_type": "stream",
     "text": [
      "enter a sentence  hello world\n"
     ]
    },
    {
     "name": "stdout",
     "output_type": "stream",
     "text": [
      "world hello\n"
     ]
    }
   ],
   "source": [
    "# Write a function that will take a given string and reverse the order of words.\n",
    "Name = input(\"enter a sentence \")\n",
    "x=Name.split(\" \")\n",
    "x.reverse()\n",
    "y=' '.join(x)\n",
    "print(y)"
   ]
  },
  {
   "cell_type": "code",
   "execution_count": 18,
   "id": "56b03902-cb0c-45bc-bbbb-c61c44321b03",
   "metadata": {},
   "outputs": [
    {
     "name": "stdin",
     "output_type": "stream",
     "text": [
      "enter a number  1221\n"
     ]
    },
    {
     "name": "stdout",
     "output_type": "stream",
     "text": [
      "true\n"
     ]
    }
   ],
   "source": [
    "# Given an integer x, return true if x is a palindrome, and false otherwise.\n",
    "x=int(input(\"enter a number \"))\n",
    "T=x\n",
    "y=0\n",
    "while T>0:\n",
    "    R=T%10\n",
    "    y=(y*10)+R\n",
    "    T=T//10\n",
    "if x==y:\n",
    "    print(\"true\")\n",
    "else:\n",
    "    print(\"false\")"
   ]
  },
  {
   "cell_type": "code",
   "execution_count": 33,
   "id": "910fe04d-3b48-4d08-acbf-bb8441e647fa",
   "metadata": {},
   "outputs": [
    {
     "name": "stdin",
     "output_type": "stream",
     "text": [
      "enter a string  madam\n"
     ]
    },
    {
     "name": "stdout",
     "output_type": "stream",
     "text": [
      "string is palindrome\n"
     ]
    }
   ],
   "source": [
    "# Write a Python function that checks whether a passed string is a palindrome or not.\n",
    "Name = input(\"enter a string \")\n",
    "Rvrs=''.join(reversed(Name))\n",
    "if Rvrs==Name:\n",
    "    print(\"string is palindrome\")\n",
    "else:\n",
    "    print(\"string is not palindrome\")"
   ]
  },
  {
   "cell_type": "code",
   "execution_count": 42,
   "id": "80d1c326-6887-42ef-a279-164f88bab14e",
   "metadata": {},
   "outputs": [
    {
     "name": "stdin",
     "output_type": "stream",
     "text": [
      "enter a number  30\n"
     ]
    },
    {
     "name": "stdout",
     "output_type": "stream",
     "text": [
      "[1, 4, 9, 16, 25, 36, 49, 64, 81, 100, 121, 144, 169, 196, 225, 256, 289, 324, 361, 400, 441, 484, 529, 576, 625, 676, 729, 784, 841]\n",
      "None\n"
     ]
    }
   ],
   "source": [
    "# Write a Python function to create and print a list where the values are the squares of numbers between 1 and 30.\n",
    "num=int(input(\"enter a number \"))\n",
    "\n",
    "def square(n):\n",
    "    x=[]\n",
    "    for i in range(1,n):\n",
    "        s=i*i\n",
    "        x.append(s)\n",
    "    print(x)\n",
    "\n",
    "L=square(num)\n",
    "print(L)"
   ]
  },
  {
   "cell_type": "code",
   "execution_count": 50,
   "id": "69e394f3-7a8f-4fa9-a594-3874b086b1c3",
   "metadata": {},
   "outputs": [
    {
     "name": "stdout",
     "output_type": "stream",
     "text": [
      "[(1, 3, 7, 9, 11), (1, 3, 7, 11, 9), (1, 3, 9, 7, 11), (1, 3, 9, 11, 7), (1, 3, 11, 7, 9), (1, 3, 11, 9, 7), (1, 7, 3, 9, 11), (1, 7, 3, 11, 9), (1, 7, 9, 3, 11), (1, 7, 9, 11, 3), (1, 7, 11, 3, 9), (1, 7, 11, 9, 3), (1, 9, 3, 7, 11), (1, 9, 3, 11, 7), (1, 9, 7, 3, 11), (1, 9, 7, 11, 3), (1, 9, 11, 3, 7), (1, 9, 11, 7, 3), (1, 11, 3, 7, 9), (1, 11, 3, 9, 7), (1, 11, 7, 3, 9), (1, 11, 7, 9, 3), (1, 11, 9, 3, 7), (1, 11, 9, 7, 3), (3, 1, 7, 9, 11), (3, 1, 7, 11, 9), (3, 1, 9, 7, 11), (3, 1, 9, 11, 7), (3, 1, 11, 7, 9), (3, 1, 11, 9, 7), (3, 7, 1, 9, 11), (3, 7, 1, 11, 9), (3, 7, 9, 1, 11), (3, 7, 9, 11, 1), (3, 7, 11, 1, 9), (3, 7, 11, 9, 1), (3, 9, 1, 7, 11), (3, 9, 1, 11, 7), (3, 9, 7, 1, 11), (3, 9, 7, 11, 1), (3, 9, 11, 1, 7), (3, 9, 11, 7, 1), (3, 11, 1, 7, 9), (3, 11, 1, 9, 7), (3, 11, 7, 1, 9), (3, 11, 7, 9, 1), (3, 11, 9, 1, 7), (3, 11, 9, 7, 1), (7, 1, 3, 9, 11), (7, 1, 3, 11, 9), (7, 1, 9, 3, 11), (7, 1, 9, 11, 3), (7, 1, 11, 3, 9), (7, 1, 11, 9, 3), (7, 3, 1, 9, 11), (7, 3, 1, 11, 9), (7, 3, 9, 1, 11), (7, 3, 9, 11, 1), (7, 3, 11, 1, 9), (7, 3, 11, 9, 1), (7, 9, 1, 3, 11), (7, 9, 1, 11, 3), (7, 9, 3, 1, 11), (7, 9, 3, 11, 1), (7, 9, 11, 1, 3), (7, 9, 11, 3, 1), (7, 11, 1, 3, 9), (7, 11, 1, 9, 3), (7, 11, 3, 1, 9), (7, 11, 3, 9, 1), (7, 11, 9, 1, 3), (7, 11, 9, 3, 1), (9, 1, 3, 7, 11), (9, 1, 3, 11, 7), (9, 1, 7, 3, 11), (9, 1, 7, 11, 3), (9, 1, 11, 3, 7), (9, 1, 11, 7, 3), (9, 3, 1, 7, 11), (9, 3, 1, 11, 7), (9, 3, 7, 1, 11), (9, 3, 7, 11, 1), (9, 3, 11, 1, 7), (9, 3, 11, 7, 1), (9, 7, 1, 3, 11), (9, 7, 1, 11, 3), (9, 7, 3, 1, 11), (9, 7, 3, 11, 1), (9, 7, 11, 1, 3), (9, 7, 11, 3, 1), (9, 11, 1, 3, 7), (9, 11, 1, 7, 3), (9, 11, 3, 1, 7), (9, 11, 3, 7, 1), (9, 11, 7, 1, 3), (9, 11, 7, 3, 1), (11, 1, 3, 7, 9), (11, 1, 3, 9, 7), (11, 1, 7, 3, 9), (11, 1, 7, 9, 3), (11, 1, 9, 3, 7), (11, 1, 9, 7, 3), (11, 3, 1, 7, 9), (11, 3, 1, 9, 7), (11, 3, 7, 1, 9), (11, 3, 7, 9, 1), (11, 3, 9, 1, 7), (11, 3, 9, 7, 1), (11, 7, 1, 3, 9), (11, 7, 1, 9, 3), (11, 7, 3, 1, 9), (11, 7, 3, 9, 1), (11, 7, 9, 1, 3), (11, 7, 9, 3, 1), (11, 9, 1, 3, 7), (11, 9, 1, 7, 3), (11, 9, 3, 1, 7), (11, 9, 3, 7, 1), (11, 9, 7, 1, 3), (11, 9, 7, 3, 1)]\n"
     ]
    }
   ],
   "source": [
    "# Write a Python function to generate all permutations of a list.\n",
    "import itertools\n",
    "l=[1,3,7,9,11]\n",
    "L=list(itertools.permutations(l))\n",
    "print(L)"
   ]
  },
  {
   "cell_type": "code",
   "execution_count": 51,
   "id": "fb0ea99e-859b-4d5c-b382-4278f9e3515c",
   "metadata": {},
   "outputs": [
    {
     "data": {
      "text/plain": [
       "15"
      ]
     },
     "execution_count": 51,
     "metadata": {},
     "output_type": "execute_result"
    }
   ],
   "source": [
    "# Write a Python program to access a function inside a function.\n",
    "def test_1(x):\n",
    "    def test_2(y):\n",
    "        return x+y\n",
    "    return test_2\n",
    "a=test_1(5)\n",
    "a(10)"
   ]
  }
 ],
 "metadata": {
  "kernelspec": {
   "display_name": "Python 3 (ipykernel)",
   "language": "python",
   "name": "python3"
  },
  "language_info": {
   "codemirror_mode": {
    "name": "ipython",
    "version": 3
   },
   "file_extension": ".py",
   "mimetype": "text/x-python",
   "name": "python",
   "nbconvert_exporter": "python",
   "pygments_lexer": "ipython3",
   "version": "3.11.7"
  }
 },
 "nbformat": 4,
 "nbformat_minor": 5
}
